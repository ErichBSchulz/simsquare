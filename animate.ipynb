{
 "cells": [
  {
   "cell_type": "code",
   "execution_count": 1,
   "metadata": {},
   "outputs": [],
   "source": [
    "import numpy as np\n",
    "import matplotlib.pyplot as plt\n",
    "from IPython.display import clear_output\n",
    "import time\n",
    "import sys, os\n",
    "#print(os.getcwd(), sys.path)\n",
    "os.chdir('/home/erich/simsquare')\n",
    "import sim.main as s\n",
    "import importlib"
   ]
  },
  {
   "cell_type": "code",
   "execution_count": 11,
   "metadata": {},
   "outputs": [
    {
     "data": {
      "image/png": "[encoded data removed]",
      "text/plain": [
       "<Figure size 432x288 with 1 Axes>"
      ]
     },
     "metadata": {
      "needs_background": "light"
     },
     "output_type": "display_data"
    },
    {
     "name": "stdout",
     "output_type": "stream",
     "text": [
      "Simulation complete\n"
     ]
    }
   ],
   "source": [
    "importlib.reload(s)\n",
    "\n",
    "def run(cycles = 40, x=30, y=30):\n",
    "    print(\"Simulation started\")\n",
    "    universe = s.Universe(x,y)\n",
    "    for cycle in range(cycles):\n",
    "        for org in universe.life:\n",
    "            plt.scatter(org.cell.x, org.cell.y, s=org.plot_size(), marker=org.plot_marker(), c=org.plot_color())\n",
    "        plt.axis((-1, x, -1, y))\n",
    "        plt.title(f\"cycle {cycle}\")\n",
    "        clear_output(wait=True)\n",
    "        plt.show() \n",
    "        universe.cycle()\n",
    "        #universe.print()\n",
    "        #display(universe.life)\n",
    "        time.sleep(0.01)\n",
    "\n",
    "    print(\"Simulation complete\")\n",
    "\n",
    "run(cycles=100, x=10, y=10)"
   ]
  },
  {
   "cell_type": "code",
   "execution_count": 10,
   "metadata": {},
   "outputs": [
    {
     "name": "stdout",
     "output_type": "stream",
     "text": [
      "Simulation started\n",
      "initialising Universe\n"
     ]
    },
    {
     "data": {
      "image/png": "[encoded data removed]",
      "text/plain": [
       "<Figure size 432x288 with 1 Axes>"
      ]
     },
     "metadata": {
      "needs_background": "light"
     },
     "output_type": "display_data"
    }
   ],
   "source": [
    "from matplotlib.animation import FuncAnimation\n",
    "plt.style.use('seaborn-pastel')\n",
    "x=10\n",
    "y=10\n",
    "fig = plt.figure()\n",
    "ax = plt.axes(xlim=(0, 4), ylim=(-2, 2))\n",
    "line, = ax.plot([], [], lw=3)\n",
    "print(\"Simulation started\")\n",
    "universe = s.Universe(x,y)\n",
    "    \n",
    "def init():\n",
    "    return line,\n",
    "def animate(i):\n",
    "    for org in universe.life:\n",
    "        plt.scatter(org.cell.x, org.cell.y, s=org.plot_size(), marker=org.plot_marker(), c=org.plot_color())\n",
    "    plt.axis((-1, x, -1, y))\n",
    "    plt.title(f\"cycle {i}\")\n",
    "    universe.cycle()\n",
    "    return line,\n",
    "\n",
    "anim = FuncAnimation(fig, animate, init_func=init,\n",
    "                               frames=40, interval=20, blit=True)\n",
    "\n",
    "\n",
    "anim.save('sim.gif', writer='imagemagick')"
   ]
  },
  {
   "cell_type": "code",
   "execution_count": null,
   "metadata": {},
   "outputs": [],
   "source": []
  }
 ],
 "metadata": {
  "kernelspec": {
   "display_name": "Python 3",
   "language": "python",
   "name": "python3"
  },
  "language_info": {
   "codemirror_mode": {
    "name": "ipython",
    "version": 3
   },
   "file_extension": ".py",
   "mimetype": "text/x-python",
   "name": "python",
   "nbconvert_exporter": "python",
   "pygments_lexer": "ipython3",
   "version": "3.7.6"
  }
 },
 "nbformat": 4,
 "nbformat_minor": 4
}
